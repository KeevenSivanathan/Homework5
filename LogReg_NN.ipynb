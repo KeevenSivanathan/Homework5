{
  "nbformat": 4,
  "nbformat_minor": 0,
  "metadata": {
    "colab": {
      "name": "LogReg_NN.ipynb",
      "provenance": []
    },
    "kernelspec": {
      "name": "python3",
      "display_name": "Python 3"
    },
    "language_info": {
      "name": "python"
    }
  },
  "cells": [
    {
      "cell_type": "markdown",
      "metadata": {
        "id": "eEmEQeyeX3ZX"
      },
      "source": [
        "References : \n",
        "\n",
        "https://stackoverflow.com/questions/50954479/using-cuda-with-pytorch"
      ]
    },
    {
      "cell_type": "code",
      "metadata": {
        "id": "6_Xyas-HWEO-"
      },
      "source": [
        "import numpy as np\n",
        "import matplotlib.pyplot as plt\n",
        "import pandas as pd\n",
        "import torch"
      ],
      "execution_count": 1,
      "outputs": []
    },
    {
      "cell_type": "code",
      "metadata": {
        "id": "fJcmfnodWI38"
      },
      "source": [
        "#Loading in data from MNIST dataset\n",
        "df_train = pd.read_csv('./sample_data/mnist_train_small.csv')\n",
        "df_test = pd.read_csv('./sample_data/mnist_test.csv')"
      ],
      "execution_count": 2,
      "outputs": []
    },
    {
      "cell_type": "code",
      "metadata": {
        "id": "PuYiucnvWM7y"
      },
      "source": [
        "idx = 6 \n",
        "row = df_test.iloc[idx]\n",
        "img = row[1:].values.reshape(28,28)"
      ],
      "execution_count": 3,
      "outputs": []
    },
    {
      "cell_type": "code",
      "metadata": {
        "colab": {
          "base_uri": "https://localhost:8080/",
          "height": 282
        },
        "id": "hC5xQ_HtWPm5",
        "outputId": "73642d09-eba1-4a6a-a06c-4bc9622340a2"
      },
      "source": [
        "plt.imshow(img, cmap='gray') #A label for the 6th row of the dataframe "
      ],
      "execution_count": 4,
      "outputs": [
        {
          "output_type": "execute_result",
          "data": {
            "text/plain": [
              "<matplotlib.image.AxesImage at 0x7f4c1ca0bb50>"
            ]
          },
          "metadata": {
            "tags": []
          },
          "execution_count": 4
        },
        {
          "output_type": "display_data",
          "data": {
            "image/png": "[encoded data removed]",
            "text/plain": [
              "<Figure size 432x288 with 1 Axes>"
            ]
          },
          "metadata": {
            "tags": [],
            "needs_background": "light"
          }
        }
      ]
    },
    {
      "cell_type": "code",
      "metadata": {
        "id": "gikhW1hpWRE2"
      },
      "source": [
        "#Must implement this class and 3 methods in order to initialize, get length and get item from the digits dataset\n",
        "class DigitsDataset(torch.utils.data.Dataset):\n",
        "    def __init__(self,df):\n",
        "        self.df = df \n",
        "        \n",
        "    def __len__(self):\n",
        "        return len(self.df)\n",
        "    \n",
        "    def __getitem__(self,idx):\n",
        "        row = self.df.iloc[idx]\n",
        "        \n",
        "        x = np.float32(row[1:].values) / 255.0\n",
        "        y = row[0]\n",
        "        \n",
        "        return x,y"
      ],
      "execution_count": 5,
      "outputs": []
    },
    {
      "cell_type": "code",
      "metadata": {
        "id": "t102zY4kWTXf"
      },
      "source": [
        "#Using the DigitsDataset class for the training and testing dataset\n",
        "dataset_train = DigitsDataset(df_train)\n",
        "dataset_test = DigitsDataset(df_test)"
      ],
      "execution_count": 6,
      "outputs": []
    },
    {
      "cell_type": "code",
      "metadata": {
        "id": "4_ycEryiWVPV"
      },
      "source": [
        "#Using the dataloader, it grabs a batch of data, in this case the batch size is 64\n",
        "dataloader_train = torch.utils.data.DataLoader(dataset_train, batch_size=64, shuffle = True)\n",
        "dataloader_test = torch.utils.data.DataLoader(dataset_test, batch_size = 64, shuffle = True)"
      ],
      "execution_count": 7,
      "outputs": []
    },
    {
      "cell_type": "code",
      "metadata": {
        "id": "tURYbz9FWWwN"
      },
      "source": [
        "#Gets one batch of data\n",
        "X_batch, Y_batch = next(iter(dataloader_train))"
      ],
      "execution_count": 8,
      "outputs": []
    },
    {
      "cell_type": "code",
      "metadata": {
        "colab": {
          "base_uri": "https://localhost:8080/",
          "height": 282
        },
        "id": "IURZTxtcWYXG",
        "outputId": "ab03ab85-56cf-4d93-8aaf-8bcd29f184aa"
      },
      "source": [
        "#Reshaping the data into 28,28 \n",
        "plt.imshow(np.reshape(X_batch[0],(28,28)))\n",
        "\n",
        "#Image of the first row in the test labels \n",
        "print(Y_batch[0])"
      ],
      "execution_count": 9,
      "outputs": [
        {
          "output_type": "stream",
          "text": [
            "tensor(1)\n"
          ],
          "name": "stdout"
        },
        {
          "output_type": "display_data",
          "data": {
            "image/png": "[encoded data removed]",
            "text/plain": [
              "<Figure size 432x288 with 1 Axes>"
            ]
          },
          "metadata": {
            "tags": [],
            "needs_background": "light"
          }
        }
      ]
    },
    {
      "cell_type": "code",
      "metadata": {
        "id": "J_XEh7L7WZ0R"
      },
      "source": [
        "#A class to specify the Neural Network architecture \n",
        "class LogReg_NeuralNetwork(torch.nn.Module):\n",
        "    #Initializing the neural network \n",
        "    def __init__(self,input_size,num_classes):\n",
        "        \n",
        "        super(LogReg_NeuralNetwork,self).__init__()\n",
        "        self.linear = torch.nn.Linear(input_size,num_classes)\n",
        "\n",
        "        \n",
        "    #Function that applies the neural network to a vector x   \n",
        "    def forward(self,x):\n",
        "        \n",
        "        result = self.linear(x)\n",
        "        return result"
      ],
      "execution_count": 10,
      "outputs": []
    },
    {
      "cell_type": "code",
      "metadata": {
        "id": "9hb3vQ9QWbh2"
      },
      "source": [
        "# Hyper Parameters \n",
        "input_size = X_batch.shape[1] #784\n",
        "num_classes = 10"
      ],
      "execution_count": 11,
      "outputs": []
    },
    {
      "cell_type": "code",
      "metadata": {
        "id": "3pfMXI7kWd4e"
      },
      "source": [
        "model = LogReg_NeuralNetwork(input_size, num_classes) #The Neural Network "
      ],
      "execution_count": 12,
      "outputs": []
    },
    {
      "cell_type": "code",
      "metadata": {
        "id": "hTQJggTXWf07"
      },
      "source": [
        "#Using the cuda GPU if it is available \n",
        "device = torch.device(\"cuda\" if torch.cuda.is_available() else \"cpu\")\n",
        "model = model.to(device) #Directing our model to our device"
      ],
      "execution_count": 13,
      "outputs": []
    },
    {
      "cell_type": "code",
      "metadata": {
        "id": "gBTx86IBWnV_"
      },
      "source": [
        "loss_fun = torch.nn.CrossEntropyLoss() #Loss Function\n",
        "optimizer = torch.optim.Adam(model.parameters(), lr = 0.001) #Similar to Stochastic Gradient Descent "
      ],
      "execution_count": 65,
      "outputs": []
    },
    {
      "cell_type": "code",
      "metadata": {
        "colab": {
          "base_uri": "https://localhost:8080/"
        },
        "id": "vECHaQQtWpFr",
        "outputId": "f4f846a1-fe7a-4ba6-bb9a-1e04549e96eb"
      },
      "source": [
        "#Training the Neural Network\n",
        "num_epochs = 10\n",
        "N_train = len(dataset_train)\n",
        "N_test = len(dataset_test)\n",
        "\n",
        "train_losses = [] #Collect training losses\n",
        "test_losses = [] #Collect testing losses \n",
        "\n",
        "#For the number of epochs \n",
        "for ep in range(num_epochs):\n",
        "    \n",
        "    model.train() #Puts model in training mode\n",
        "    train_loss = 0.0\n",
        "    batch_idx = 0\n",
        "    \n",
        "    for X_batch, y_batch in dataloader_train: #Go through training data one batch at a time \n",
        "        X_batch = X_batch.to(device)\n",
        "        y_batch = y_batch.to(device)\n",
        "        \n",
        "        N_batch = X_batch.shape[0]\n",
        "        outputs = model(X_batch)\n",
        "        loss_onebatch = loss_fun(outputs,y_batch)\n",
        "        \n",
        "        model.zero_grad()\n",
        "        loss_onebatch.backward() #PyTorch computes gradient \n",
        "        optimizer.step() #One iteration of stochastic gradient descent / Adam \n",
        "        \n",
        "        train_loss += loss_onebatch * N_batch\n",
        "        \n",
        "    model.eval() #Puts model in testing mode \n",
        "    test_loss = 0.0\n",
        "    \n",
        "    for X_batch, y_batch in dataloader_test:\n",
        "        X_batch = X_batch.to(device)\n",
        "        y_batch = y_batch.to(device)\n",
        "        \n",
        "        with torch.no_grad(): #Tells pyTorch that it does not need to keep track of gradient info\n",
        "            N_batch = X_batch.shape[0]\n",
        "            outputs = model(X_batch)\n",
        "            loss_onebatch = loss_fun(outputs,y_batch)\n",
        "            test_loss += loss_onebatch * N_batch\n",
        "            \n",
        "    train_losses.append(train_loss/N_train)\n",
        "    test_losses.append(test_loss/N_train)\n",
        "    \n",
        "    print('Epoch : ', ep , '| Train Loss : ', train_loss/N_train, '| Test Loss : ', test_loss/N_train)\n",
        "        "
      ],
      "execution_count": 76,
      "outputs": [
        {
          "output_type": "stream",
          "text": [
            "Epoch :  0 | Train Loss :  tensor(1.4103, grad_fn=<DivBackward0>) | Test Loss :  tensor(5.7332)\n",
            "Epoch :  1 | Train Loss :  tensor(1.3916, grad_fn=<DivBackward0>) | Test Loss :  tensor(5.7439)\n",
            "Epoch :  2 | Train Loss :  tensor(1.3587, grad_fn=<DivBackward0>) | Test Loss :  tensor(5.7258)\n",
            "Epoch :  3 | Train Loss :  tensor(1.3308, grad_fn=<DivBackward0>) | Test Loss :  tensor(5.6656)\n",
            "Epoch :  4 | Train Loss :  tensor(1.3503, grad_fn=<DivBackward0>) | Test Loss :  tensor(5.6749)\n",
            "Epoch :  5 | Train Loss :  tensor(1.2937, grad_fn=<DivBackward0>) | Test Loss :  tensor(5.6851)\n",
            "Epoch :  6 | Train Loss :  tensor(1.3077, grad_fn=<DivBackward0>) | Test Loss :  tensor(5.6633)\n",
            "Epoch :  7 | Train Loss :  tensor(1.2815, grad_fn=<DivBackward0>) | Test Loss :  tensor(5.7208)\n",
            "Epoch :  8 | Train Loss :  tensor(1.2762, grad_fn=<DivBackward0>) | Test Loss :  tensor(5.7286)\n",
            "Epoch :  9 | Train Loss :  tensor(1.2592, grad_fn=<DivBackward0>) | Test Loss :  tensor(5.6505)\n"
          ],
          "name": "stdout"
        }
      ]
    },
    {
      "cell_type": "code",
      "metadata": {
        "colab": {
          "base_uri": "https://localhost:8080/",
          "height": 298
        },
        "id": "5bdl0SLDWqxt",
        "outputId": "71cac237-619a-43f9-c0e7-d4474d84bdd3"
      },
      "source": [
        "#A plot of the Objective Function against the Epochs \n",
        "plt.plot(train_losses, label = 'Training Loss')\n",
        "plt.plot(test_losses, label = 'Testing Loss')\n",
        "plt.legend(loc='upper right')\n",
        "plt.title('Objective Function vs Epoch')"
      ],
      "execution_count": 72,
      "outputs": [
        {
          "output_type": "execute_result",
          "data": {
            "text/plain": [
              "Text(0.5, 1.0, 'Objective Function vs Epoch')"
            ]
          },
          "metadata": {
            "tags": []
          },
          "execution_count": 72
        },
        {
          "output_type": "display_data",
          "data": {
            "image/png": "[encoded data removed]",
            "text/plain": [
              "<Figure size 432x288 with 1 Axes>"
            ]
          },
          "metadata": {
            "tags": [],
            "needs_background": "light"
          }
        }
      ]
    },
    {
      "cell_type": "code",
      "metadata": {
        "colab": {
          "base_uri": "https://localhost:8080/"
        },
        "id": "TbA0hGeVWs3T",
        "outputId": "03e1209c-0f04-4477-91ab-596e820eda6a"
      },
      "source": [
        "#Calculates the number of correct predictions and gives us the accuracy \n",
        "num_correct = 0 \n",
        "model.eval()\n",
        "\n",
        "for X_batch, y_batch in dataloader_test: \n",
        "    X_batch = X_batch.to(device)\n",
        "    y_batch = y_batch.to(device)\n",
        "    \n",
        "    with torch.no_grad():\n",
        "        outputs = model(X_batch)\n",
        "        num_correct += sum(np.argmax(outputs,axis=1) == y_batch)\n",
        "        \n",
        "print('Accuracy : ', num_correct/N_test)"
      ],
      "execution_count": 75,
      "outputs": [
        {
          "output_type": "stream",
          "text": [
            "Accuracy :  tensor(0.8900)\n"
          ],
          "name": "stdout"
        }
      ]
    },
    {
      "cell_type": "markdown",
      "metadata": {
        "id": "vlL4n93JF81y"
      },
      "source": [
        "Increasing the learning rate here decreased the accuracy, from 90% (lr = 0.01) to 88% (lr = 0.1) \n",
        "\n",
        "Learning Rate of 0.001 and Epoch 10 : 90% \n",
        "\n",
        "Learning Rate of 0.001 and Epoch 15 : 89% \n",
        "\n",
        "Learning Rate of 0.001 and Epoch 20 : 88% "
      ]
    }
  ]
}